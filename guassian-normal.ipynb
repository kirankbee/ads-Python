{
 "cells": [
  {
   "cell_type": "code",
   "execution_count": 42,
   "metadata": {},
   "outputs": [
    {
     "data": {
      "text/html": [
       "<div>\n",
       "<style scoped>\n",
       "    .dataframe tbody tr th:only-of-type {\n",
       "        vertical-align: middle;\n",
       "    }\n",
       "\n",
       "    .dataframe tbody tr th {\n",
       "        vertical-align: top;\n",
       "    }\n",
       "\n",
       "    .dataframe thead th {\n",
       "        text-align: right;\n",
       "    }\n",
       "</style>\n",
       "<table border=\"1\" class=\"dataframe\">\n",
       "  <thead>\n",
       "    <tr style=\"text-align: right;\">\n",
       "      <th></th>\n",
       "      <th>Women</th>\n",
       "      <th>American Native</th>\n",
       "      <th>ASIAN</th>\n",
       "      <th>BLACK</th>\n",
       "      <th>HISPANIC</th>\n",
       "      <th>NATIVE HAWIIAN</th>\n",
       "      <th>American White</th>\n",
       "      <th>WHITE</th>\n",
       "      <th>Multi race</th>\n",
       "      <th>UNKOWN</th>\n",
       "      <th>Foreginers</th>\n",
       "      <th>DiversityRate</th>\n",
       "    </tr>\n",
       "  </thead>\n",
       "  <tbody>\n",
       "    <tr>\n",
       "      <th>count</th>\n",
       "      <td>233.000000</td>\n",
       "      <td>233.000000</td>\n",
       "      <td>233.000000</td>\n",
       "      <td>233.000000</td>\n",
       "      <td>233.000000</td>\n",
       "      <td>233.000000</td>\n",
       "      <td>233.000000</td>\n",
       "      <td>233.000000</td>\n",
       "      <td>233.000000</td>\n",
       "      <td>233.000000</td>\n",
       "      <td>233.000000</td>\n",
       "      <td>233.000000</td>\n",
       "    </tr>\n",
       "    <tr>\n",
       "      <th>mean</th>\n",
       "      <td>31898.776824</td>\n",
       "      <td>0.833004</td>\n",
       "      <td>0.005708</td>\n",
       "      <td>0.084163</td>\n",
       "      <td>0.172876</td>\n",
       "      <td>0.206094</td>\n",
       "      <td>0.003777</td>\n",
       "      <td>0.620086</td>\n",
       "      <td>0.073433</td>\n",
       "      <td>0.188712</td>\n",
       "      <td>0.070944</td>\n",
       "      <td>0.547124</td>\n",
       "    </tr>\n",
       "    <tr>\n",
       "      <th>std</th>\n",
       "      <td>15740.230642</td>\n",
       "      <td>4.492032</td>\n",
       "      <td>0.027426</td>\n",
       "      <td>0.095860</td>\n",
       "      <td>1.052107</td>\n",
       "      <td>0.493067</td>\n",
       "      <td>0.032897</td>\n",
       "      <td>1.930017</td>\n",
       "      <td>0.640140</td>\n",
       "      <td>2.185994</td>\n",
       "      <td>0.120962</td>\n",
       "      <td>2.276085</td>\n",
       "    </tr>\n",
       "    <tr>\n",
       "      <th>min</th>\n",
       "      <td>19934.000000</td>\n",
       "      <td>0.300000</td>\n",
       "      <td>0.000000</td>\n",
       "      <td>0.000000</td>\n",
       "      <td>0.000000</td>\n",
       "      <td>0.020000</td>\n",
       "      <td>0.000000</td>\n",
       "      <td>0.030000</td>\n",
       "      <td>0.000000</td>\n",
       "      <td>0.000000</td>\n",
       "      <td>0.000000</td>\n",
       "      <td>0.080000</td>\n",
       "    </tr>\n",
       "    <tr>\n",
       "      <th>25%</th>\n",
       "      <td>23104.000000</td>\n",
       "      <td>0.510000</td>\n",
       "      <td>0.000000</td>\n",
       "      <td>0.030000</td>\n",
       "      <td>0.040000</td>\n",
       "      <td>0.050000</td>\n",
       "      <td>0.000000</td>\n",
       "      <td>0.350000</td>\n",
       "      <td>0.020000</td>\n",
       "      <td>0.010000</td>\n",
       "      <td>0.020000</td>\n",
       "      <td>0.230000</td>\n",
       "    </tr>\n",
       "    <tr>\n",
       "      <th>50%</th>\n",
       "      <td>27705.000000</td>\n",
       "      <td>0.540000</td>\n",
       "      <td>0.000000</td>\n",
       "      <td>0.050000</td>\n",
       "      <td>0.070000</td>\n",
       "      <td>0.100000</td>\n",
       "      <td>0.000000</td>\n",
       "      <td>0.520000</td>\n",
       "      <td>0.030000</td>\n",
       "      <td>0.030000</td>\n",
       "      <td>0.050000</td>\n",
       "      <td>0.350000</td>\n",
       "    </tr>\n",
       "    <tr>\n",
       "      <th>75%</th>\n",
       "      <td>35313.000000</td>\n",
       "      <td>0.570000</td>\n",
       "      <td>0.010000</td>\n",
       "      <td>0.110000</td>\n",
       "      <td>0.140000</td>\n",
       "      <td>0.240000</td>\n",
       "      <td>0.000000</td>\n",
       "      <td>0.660000</td>\n",
       "      <td>0.040000</td>\n",
       "      <td>0.050000</td>\n",
       "      <td>0.090000</td>\n",
       "      <td>0.540000</td>\n",
       "    </tr>\n",
       "    <tr>\n",
       "      <th>max</th>\n",
       "      <td>195059.000000</td>\n",
       "      <td>69.100000</td>\n",
       "      <td>0.400000</td>\n",
       "      <td>1.000000</td>\n",
       "      <td>16.100000</td>\n",
       "      <td>7.200000</td>\n",
       "      <td>0.500000</td>\n",
       "      <td>29.800000</td>\n",
       "      <td>9.800000</td>\n",
       "      <td>33.400000</td>\n",
       "      <td>1.700000</td>\n",
       "      <td>35.000000</td>\n",
       "    </tr>\n",
       "  </tbody>\n",
       "</table>\n",
       "</div>"
      ],
      "text/plain": [
       "               Women  American Native       ASIAN       BLACK    HISPANIC  \\\n",
       "count     233.000000       233.000000  233.000000  233.000000  233.000000   \n",
       "mean    31898.776824         0.833004    0.005708    0.084163    0.172876   \n",
       "std     15740.230642         4.492032    0.027426    0.095860    1.052107   \n",
       "min     19934.000000         0.300000    0.000000    0.000000    0.000000   \n",
       "25%     23104.000000         0.510000    0.000000    0.030000    0.040000   \n",
       "50%     27705.000000         0.540000    0.000000    0.050000    0.070000   \n",
       "75%     35313.000000         0.570000    0.010000    0.110000    0.140000   \n",
       "max    195059.000000        69.100000    0.400000    1.000000   16.100000   \n",
       "\n",
       "       NATIVE HAWIIAN  American White       WHITE  Multi race      UNKOWN  \\\n",
       "count      233.000000      233.000000  233.000000  233.000000  233.000000   \n",
       "mean         0.206094        0.003777    0.620086    0.073433    0.188712   \n",
       "std          0.493067        0.032897    1.930017    0.640140    2.185994   \n",
       "min          0.020000        0.000000    0.030000    0.000000    0.000000   \n",
       "25%          0.050000        0.000000    0.350000    0.020000    0.010000   \n",
       "50%          0.100000        0.000000    0.520000    0.030000    0.030000   \n",
       "75%          0.240000        0.000000    0.660000    0.040000    0.050000   \n",
       "max          7.200000        0.500000   29.800000    9.800000   33.400000   \n",
       "\n",
       "       Foreginers  DiversityRate  \n",
       "count  233.000000     233.000000  \n",
       "mean     0.070944       0.547124  \n",
       "std      0.120962       2.276085  \n",
       "min      0.000000       0.080000  \n",
       "25%      0.020000       0.230000  \n",
       "50%      0.050000       0.350000  \n",
       "75%      0.090000       0.540000  \n",
       "max      1.700000      35.000000  "
      ]
     },
     "execution_count": 42,
     "metadata": {},
     "output_type": "execute_result"
    }
   ],
   "source": [
    "%matplotlib inline\n",
    "\n",
    "import numpy as np\n",
    "from scipy.stats import norm\n",
    "import pandas as pd\n",
    "\n",
    "# data set from Chronicle online website \n",
    "cols =[]\n",
    "dataset = pd.read_csv(\"college_diversity.csv\", engine='python')\n",
    "dataset.describe()\n",
    "\n",
    "\n",
    "\n"
   ]
  },
  {
   "cell_type": "code",
   "execution_count": 46,
   "metadata": {},
   "outputs": [
    {
     "name": "stdout",
     "output_type": "stream",
     "text": [
      "54.712446351931334 2.2760851650163656\n"
     ]
    }
   ],
   "source": [
    "mean, standarddeviation = np.mean(dataset['DiversityRate'])*100, dataset['DiversityRate'].std(axis = 0)\n",
    "\n",
    "print(mean, standarddeviation )"
   ]
  },
  {
   "cell_type": "code",
   "execution_count": 57,
   "metadata": {},
   "outputs": [
    {
     "name": "stdout",
     "output_type": "stream",
     "text": [
      "2.323091301388385 8.913354368232875\n"
     ]
    }
   ],
   "source": [
    "# assuming \n",
    "lowerbound, upperbound = 60, 75\n",
    "#Z-transform calculation\n",
    "Z1, Z2 = (lowerbound-mean)/standarddeviation , (upperbound - mean)/standarddeviation\n",
    "print(Z1,Z2)"
   ]
  },
  {
   "cell_type": "code",
   "execution_count": 49,
   "metadata": {},
   "outputs": [
    {
     "data": {
      "text/plain": [
       "0.12633694577355528"
      ]
     },
     "execution_count": 49,
     "metadata": {},
     "output_type": "execute_result"
    }
   ],
   "source": [
    "Z1"
   ]
  },
  {
   "cell_type": "code",
   "execution_count": 58,
   "metadata": {},
   "outputs": [
    {
     "data": {
      "image/png": "[encoded data removed]",
      "text/plain": [
       "<Figure size 648x432 with 1 Axes>"
      ]
     },
     "metadata": {},
     "output_type": "display_data"
    }
   ],
   "source": [
    "import matplotlib.pyplot as plt\n",
    "# plot the distribution Curve , to know whether it is normal or not\n",
    "x = np.arange(Z1, Z2, 0.001) # range of x in spec\n",
    "x_all = np.arange(-10, 10, 0.001) # entire range of x, both in and out of spec\n",
    "y = norm.pdf(x,0,1)\n",
    "y2 = norm.pdf(x_all,0,1)\n",
    "\n",
    "ig, ax = plt.subplots(figsize=(9,6))\n",
    "plt.style.use('fivethirtyeight')\n",
    "ax.plot(x_all,y2)\n",
    "\n",
    "ax.fill_between(x,y,0, alpha=0.3, color='g')\n",
    "ax.fill_between(x_all,y2,0, alpha=0.1)\n",
    "ax.set_xlim([-4,4])\n",
    "ax.set_xlabel('Number of Standard Deviations Outside the Mean')\n",
    "ax.set_yticklabels([])\n",
    "ax.set_title('Normal Gaussian Curve')\n",
    "\n",
    "plt.savefig('normal_curve.png', dpi=72, bbox_inches='tight')\n",
    "plt.show()"
   ]
  },
  {
   "cell_type": "code",
   "execution_count": null,
   "metadata": {},
   "outputs": [],
   "source": []
  }
 ],
 "metadata": {
  "kernelspec": {
   "display_name": "Python 3",
   "language": "python",
   "name": "python3"
  },
  "language_info": {
   "codemirror_mode": {
    "name": "ipython",
    "version": 3
   },
   "file_extension": ".py",
   "mimetype": "text/x-python",
   "name": "python",
   "nbconvert_exporter": "python",
   "pygments_lexer": "ipython3",
   "version": "3.7.5"
  }
 },
 "nbformat": 4,
 "nbformat_minor": 2
}
